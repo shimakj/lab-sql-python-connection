{
 "cells": [
  {
   "cell_type": "code",
   "execution_count": 1,
   "id": "b18ca592",
   "metadata": {},
   "outputs": [],
   "source": [
    "# Import necessary libraries\n",
    "import pandas as pd\n",
    "from sqlalchemy import create_engine\n",
    "\n",
    "# Database connection function\n",
    "def connect_to_sakila_db(user, password, host, port, db_name):\n",
    "    try:\n",
    "        engine = create_engine(f'mysql+pymysql://{user}:{password}@{host}:{port}/{db_name}')\n",
    "        connection = engine.connect()\n",
    "        print(\"Connection to the Sakila database was successful.\")\n",
    "        return engine\n",
    "    except Exception as e:\n",
    "        print(f\"Error connecting to database: {e}\")\n",
    "        return None\n",
    "\n",
    "# Function to retrieve rental data for a specific month and year\n",
    "def rentals_month(engine, month, year):\n",
    "    query = f'''\n",
    "    SELECT customer_id, COUNT(rental_id) as rentals\n",
    "    FROM rental\n",
    "    WHERE MONTH(rental_date) = {month} AND YEAR(rental_date) = {year}\n",
    "    GROUP BY customer_id\n",
    "    '''\n",
    "    try:\n",
    "        df = pd.read_sql(query, engine)\n",
    "        return df\n",
    "    except Exception as e:\n",
    "        print(f\"Error retrieving data: {e}\")\n",
    "        return None\n",
    "\n",
    "# Function to get rental count per customer for a specific month and year\n",
    "def rental_count_month(df, month, year):\n",
    "    column_name = f\"rentals_{str(month).zfill(2)}_{year}\"\n",
    "    df[column_name] = df['rentals']\n",
    "    df = df.drop('rentals', axis=1)\n",
    "    return df\n",
    "\n",
    "# Function to compare rentals across two months and calculate the difference\n",
    "def compare_rentals(df1, df2):\n",
    "    merged_df = pd.merge(df1, df2, on='customer_id', how='outer').fillna(0)\n",
    "    rental_cols = [col for col in merged_df.columns if col.startswith('rentals_')]\n",
    "    if len(rental_cols) == 2:\n",
    "        merged_df['difference'] = merged_df[rental_cols[1]] - merged_df[rental_cols[0]]\n",
    "    return merged_df"
   ]
  },
  {
   "cell_type": "code",
   "execution_count": 2,
   "id": "cdd76432",
   "metadata": {},
   "outputs": [
    {
     "name": "stdout",
     "output_type": "stream",
     "text": [
      "Error connecting to database: (pymysql.err.OperationalError) (1045, \"Access denied for user 'user'@'localhost' (using password: YES)\")\n",
      "(Background on this error at: https://sqlalche.me/e/20/e3q8)\n",
      "None\n"
     ]
    }
   ],
   "source": [
    "engine = connect_to_sakila_db('user', 'password', 'localhost', 3306, 'sakila')\n",
    "print(engine)\n"
   ]
  },
  {
   "cell_type": "code",
   "execution_count": 4,
   "id": "de319231",
   "metadata": {},
   "outputs": [
    {
     "name": "stdout",
     "output_type": "stream",
     "text": [
      "Connection to the Sakila database was successful.\n"
     ]
    }
   ],
   "source": [
    "engine = connect_to_sakila_db('root', 'Ss871921%', 'localhost', 3306, 'sakila')\n"
   ]
  },
  {
   "cell_type": "code",
   "execution_count": 6,
   "id": "47ec09d9",
   "metadata": {},
   "outputs": [
    {
     "name": "stdout",
     "output_type": "stream",
     "text": [
      "   customer_id  rentals\n",
      "0            1        2\n",
      "1            2        1\n",
      "2            3        2\n",
      "3            5        3\n",
      "4            6        3\n",
      "<class 'pandas.core.frame.DataFrame'>\n",
      "RangeIndex: 520 entries, 0 to 519\n",
      "Data columns (total 2 columns):\n",
      " #   Column       Non-Null Count  Dtype\n",
      "---  ------       --------------  -----\n",
      " 0   customer_id  520 non-null    int64\n",
      " 1   rentals      520 non-null    int64\n",
      "dtypes: int64(2)\n",
      "memory usage: 8.3 KB\n"
     ]
    }
   ],
   "source": [
    "may_rentals = rentals_month(engine, 5, 2005)\n",
    "print(may_rentals.head())\n",
    "(may_rentals.info())  #  data types and structure\n"
   ]
  },
  {
   "cell_type": "code",
   "execution_count": 7,
   "id": "ab55dd2b",
   "metadata": {},
   "outputs": [
    {
     "name": "stdout",
     "output_type": "stream",
     "text": [
      "   customer_id  rentals_05_2005\n",
      "0            1                2\n",
      "1            2                1\n",
      "2            3                2\n",
      "3            5                3\n",
      "4            6                3\n"
     ]
    }
   ],
   "source": [
    "may_count = rental_count_month(may_rentals, 5, 2005)\n",
    "print(may_count.head())\n"
   ]
  },
  {
   "cell_type": "code",
   "execution_count": 8,
   "id": "4f1ec8fa",
   "metadata": {},
   "outputs": [
    {
     "name": "stdout",
     "output_type": "stream",
     "text": [
      "   customer_id  rentals_06_2005\n",
      "0            1                7\n",
      "1            2                1\n",
      "2            3                4\n",
      "3            4                6\n",
      "4            5                5\n",
      "<class 'pandas.core.frame.DataFrame'>\n",
      "RangeIndex: 590 entries, 0 to 589\n",
      "Data columns (total 2 columns):\n",
      " #   Column           Non-Null Count  Dtype\n",
      "---  ------           --------------  -----\n",
      " 0   customer_id      590 non-null    int64\n",
      " 1   rentals_06_2005  590 non-null    int64\n",
      "dtypes: int64(2)\n",
      "memory usage: 9.3 KB\n",
      "None\n"
     ]
    }
   ],
   "source": [
    "june_rentals = rentals_month(engine, 6, 2005)\n",
    "june_count = rental_count_month(june_rentals, 6, 2005)\n",
    "print(june_count.head())\n",
    "print(june_count.info())  #  data types and structure"
   ]
  },
  {
   "cell_type": "code",
   "execution_count": 9,
   "id": "49c56ef5",
   "metadata": {},
   "outputs": [
    {
     "name": "stdout",
     "output_type": "stream",
     "text": [
      "   customer_id  rentals_05_2005  rentals_06_2005  difference\n",
      "0            1              2.0              7.0         5.0\n",
      "1            2              1.0              1.0         0.0\n",
      "2            3              2.0              4.0         2.0\n",
      "3            4              0.0              6.0         6.0\n",
      "4            5              3.0              5.0         2.0\n"
     ]
    }
   ],
   "source": [
    "comparison = compare_rentals(may_count, june_count)\n",
    "print(comparison.head())\n"
   ]
  }
 ],
 "metadata": {
  "kernelspec": {
   "display_name": "base",
   "language": "python",
   "name": "python3"
  },
  "language_info": {
   "codemirror_mode": {
    "name": "ipython",
    "version": 3
   },
   "file_extension": ".py",
   "mimetype": "text/x-python",
   "name": "python",
   "nbconvert_exporter": "python",
   "pygments_lexer": "ipython3",
   "version": "3.12.7"
  }
 },
 "nbformat": 4,
 "nbformat_minor": 5
}
